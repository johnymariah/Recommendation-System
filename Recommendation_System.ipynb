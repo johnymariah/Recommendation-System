{
  "nbformat": 4,
  "nbformat_minor": 0,
  "metadata": {
    "kernelspec": {
      "display_name": "Python 3",
      "language": "python",
      "name": "python3"
    },
    "language_info": {
      "codemirror_mode": {
        "name": "ipython",
        "version": 3
      },
      "file_extension": ".py",
      "mimetype": "text/x-python",
      "name": "python",
      "nbconvert_exporter": "python",
      "pygments_lexer": "ipython3",
      "version": "3.7.3"
    },
    "colab": {
      "name": "Recommendation System.ipynb",
      "provenance": [],
      "collapsed_sections": []
    }
  },
  "cells": [
    {
      "cell_type": "markdown",
      "metadata": {
        "id": "D1VX1bQCEOyq"
      },
      "source": [
        "# Recommendation System\n",
        "\n",
        "Using python package named [Surprise](http://surpriselib.com/), which is an easy-to-use Python scikit for recommendation systems. It includes several commonly used algorithms, including [collaborative filtering](https://surprise.readthedocs.io/en/stable/knn_inspired.html) and [Matrix Factorization-based algorithms](https://surprise.readthedocs.io/en/stable/matrix_factorization.html)."
      ]
    },
    {
      "cell_type": "code",
      "source": [
        "# install packages\n",
        "import sys\n",
        "\n",
        "!pip install scikit-surprise"
      ],
      "metadata": {
        "colab": {
          "base_uri": "https://localhost:8080/"
        },
        "id": "acSwrWRFR2uN",
        "outputId": "95240812-b76f-4869-8bcc-12de65d5c7f3"
      },
      "execution_count": 11,
      "outputs": [
        {
          "output_type": "stream",
          "name": "stdout",
          "text": [
            "Requirement already satisfied: scikit-surprise in /usr/local/lib/python3.7/dist-packages (1.1.1)\n",
            "Requirement already satisfied: joblib>=0.11 in /usr/local/lib/python3.7/dist-packages (from scikit-surprise) (1.1.0)\n",
            "Requirement already satisfied: scipy>=1.0.0 in /usr/local/lib/python3.7/dist-packages (from scikit-surprise) (1.4.1)\n",
            "Requirement already satisfied: numpy>=1.11.2 in /usr/local/lib/python3.7/dist-packages (from scikit-surprise) (1.19.5)\n",
            "Requirement already satisfied: six>=1.10.0 in /usr/local/lib/python3.7/dist-packages (from scikit-surprise) (1.15.0)\n"
          ]
        }
      ]
    },
    {
      "cell_type": "code",
      "metadata": {
        "scrolled": true,
        "id": "23b8CgKHEOyr"
      },
      "source": [
        "from surprise.prediction_algorithms.matrix_factorization import SVD\n",
        "from surprise.prediction_algorithms.knns import KNNBasic\n",
        "from surprise.prediction_algorithms.knns import KNNWithMeans\n",
        "from surprise.prediction_algorithms.knns import KNNBaseline\n",
        "from surprise import Dataset\n",
        "from surprise import accuracy\n",
        "from surprise.model_selection import cross_validate\n",
        "from surprise.model_selection import train_test_split\n",
        "from surprise.model_selection import GridSearchCV"
      ],
      "execution_count": 4,
      "outputs": []
    },
    {
      "cell_type": "markdown",
      "metadata": {
        "id": "I5uB2R2rEOyv"
      },
      "source": [
        "## Loading data from package surprise \n",
        "\n",
        "downloading the dataset included in package surprise. The data will be saved in the .surprise_data folder in your home directory."
      ]
    },
    {
      "cell_type": "code",
      "metadata": {
        "id": "yQt1dHppEOyw"
      },
      "source": [
        "# Load the movielens-100k dataset (download it if needed),\n",
        "# built - in in the package\n",
        "data = Dataset.load_builtin('ml-100k')\n",
        "\n",
        "# sample random trainset and testset where test set is made of 20% of the ratings.\n",
        "trainset, testset = train_test_split(data, test_size=.20, random_state=0)"
      ],
      "execution_count": 6,
      "outputs": []
    },
    {
      "cell_type": "markdown",
      "metadata": {
        "id": "1t8Xw6YyEOyz"
      },
      "source": [
        "## Collaborative Filtering\n",
        "\n",
        "Applying three different flavors of collaborative filtering to this data."
      ]
    },
    {
      "cell_type": "markdown",
      "metadata": {
        "id": "WWzJBfmFEOyz"
      },
      "source": [
        "### The basic collaborative filtering algorithm"
      ]
    },
    {
      "cell_type": "code",
      "metadata": {
        "scrolled": true,
        "id": "k9siDMusEOy0",
        "colab": {
          "base_uri": "https://localhost:8080/"
        },
        "outputId": "4fb53c53-5e28-40f5-9870-cf11dc8dcfa3"
      },
      "source": [
        "# Use the basic collaborative filtering algorithm. \n",
        "# See https://surprise.readthedocs.io/en/stable/knn_inspired.html for more details.\n",
        "cf = KNNBasic()\n",
        "cf.fit(trainset)\n",
        "#knn basic\n",
        "#it takes the weighted average of the user's neighborhood of the item\n",
        "#caveat - the individual bias is not considered here\n",
        "# Train the algorithm on the trainset, and predict ratings for the testset\n",
        "predictions = cf.test(testset)\n",
        "\n",
        "# Then compute RMSE\n",
        "accuracy.rmse(predictions)\n",
        "accuracy.mae(predictions)"
      ],
      "execution_count": 7,
      "outputs": [
        {
          "output_type": "stream",
          "name": "stdout",
          "text": [
            "Computing the msd similarity matrix...\n",
            "Done computing similarity matrix.\n",
            "RMSE: 0.9872\n",
            "MAE:  0.7822\n"
          ]
        },
        {
          "output_type": "execute_result",
          "data": {
            "text/plain": [
              "0.7821631158458218"
            ]
          },
          "metadata": {},
          "execution_count": 7
        }
      ]
    },
    {
      "cell_type": "markdown",
      "metadata": {
        "id": "T4hhOzNbEOy3"
      },
      "source": [
        "### The basic collaborative filtering algorithm with user mean ratings"
      ]
    },
    {
      "cell_type": "code",
      "metadata": {
        "id": "l0eCQTaTEOy4",
        "colab": {
          "base_uri": "https://localhost:8080/"
        },
        "outputId": "51fd9253-8cfa-401f-ba61-a75676633d41"
      },
      "source": [
        "# Use the basic collaborative filtering algorithm, taking into account the mean ratings of each user.\n",
        "# See https://surprise.readthedocs.io/en/stable/knn_inspired.html for more details.\n",
        "sim_options = {'user_based': True}\n",
        "cf_mean = KNNWithMeans(sim_options=sim_options)\n",
        "cf_mean.fit(trainset)\n",
        "\n",
        "\n",
        "#knnwith means - the mean rating of each user is taken into consideration\n",
        "#this helps in reducing the bias\n",
        "#k is the size of the neighborhood, default is 40\n",
        "#sim_option - user based(user-user collaborative filtering) \n",
        "\n",
        "# Train the algorithm on the trainset, and predict ratings for the testset\n",
        "predictions = cf_mean.test(testset)\n",
        "\n",
        "# Then compute RMSE\n",
        "accuracy.rmse(predictions)\n",
        "accuracy.mae(predictions)"
      ],
      "execution_count": 8,
      "outputs": [
        {
          "output_type": "stream",
          "name": "stdout",
          "text": [
            "Computing the msd similarity matrix...\n",
            "Done computing similarity matrix.\n",
            "RMSE: 0.9629\n",
            "MAE:  0.7597\n"
          ]
        },
        {
          "output_type": "execute_result",
          "data": {
            "text/plain": [
              "0.7597060868238855"
            ]
          },
          "metadata": {},
          "execution_count": 8
        }
      ]
    },
    {
      "cell_type": "markdown",
      "source": [
        "RMSE has reduced from previous one"
      ],
      "metadata": {
        "id": "vpqDGJD5rBar"
      }
    },
    {
      "cell_type": "code",
      "source": [
        "# Use the basic collaborative filtering algorithm, taking into account the mean ratings of each user.\n",
        "# See https://surprise.readthedocs.io/en/stable/knn_inspired.html for more details.\n",
        "sim_options = {'user_based': False} #item to item collaborative filterings\n",
        "cf_mean = KNNWithMeans(sim_options=sim_options)\n",
        "cf_mean.fit(trainset)\n",
        "\n",
        "\n",
        "#knnwith means - the mean rating of each user is taken into consideration\n",
        "#this helps in reducing the bias\n",
        "#k is the size of the neighborhood, default is 40\n",
        "#sim_option - user based(user-user collaborative filtering) \n",
        "\n",
        "# Train the algorithm on the trainset, and predict ratings for the testset\n",
        "predictions = cf_mean.test(testset)\n",
        "\n",
        "# Then compute RMSE\n",
        "accuracy.rmse(predictions)\n",
        "accuracy.mae(predictions)"
      ],
      "metadata": {
        "colab": {
          "base_uri": "https://localhost:8080/"
        },
        "id": "74GMxdvGq1_g",
        "outputId": "d34c24c5-e188-4dd0-a07f-b162d0e88881"
      },
      "execution_count": 9,
      "outputs": [
        {
          "output_type": "stream",
          "name": "stdout",
          "text": [
            "Computing the msd similarity matrix...\n",
            "Done computing similarity matrix.\n",
            "RMSE: 0.9464\n",
            "MAE:  0.7427\n"
          ]
        },
        {
          "output_type": "execute_result",
          "data": {
            "text/plain": [
              "0.7426643957744533"
            ]
          },
          "metadata": {},
          "execution_count": 9
        }
      ]
    },
    {
      "cell_type": "markdown",
      "source": [
        "RMSE has further reduced"
      ],
      "metadata": {
        "id": "1MCSDTcLq-23"
      }
    },
    {
      "cell_type": "markdown",
      "metadata": {
        "id": "1YcAoL1TEOy7"
      },
      "source": [
        "## Matrix Factorization\n",
        "\n",
        "applying the matrix factorization to this data."
      ]
    },
    {
      "cell_type": "code",
      "metadata": {
        "scrolled": true,
        "id": "wPb-e_k7EOy8",
        "colab": {
          "base_uri": "https://localhost:8080/"
        },
        "outputId": "1bdf2fc2-8ef2-4095-8b18-e8fc1ea52cf4"
      },
      "source": [
        "# using the famous SVD algorithm.\n",
        "svd = SVD(n_factors = 100)\n",
        "svd.fit(trainset)\n",
        "#user item matrix is decomposed and used to make predictions\n",
        "#Train the algorithm on the trainset, and predict ratings for the testset\n",
        "#n_factors is the number of dimensions/characteristics to describe the item/user\n",
        "predictions = svd.test(testset)\n",
        "\n",
        "# Then compute RMSE\n",
        "accuracy.rmse(predictions)\n",
        "accuracy.mae(predictions)"
      ],
      "execution_count": 10,
      "outputs": [
        {
          "output_type": "stream",
          "name": "stdout",
          "text": [
            "RMSE: 0.9459\n",
            "MAE:  0.7460\n"
          ]
        },
        {
          "output_type": "execute_result",
          "data": {
            "text/plain": [
              "0.7459825271297698"
            ]
          },
          "metadata": {},
          "execution_count": 10
        }
      ]
    },
    {
      "cell_type": "markdown",
      "source": [
        "alter n_factors to gain more precision. \n",
        "Higher rhe factors more computation needed.here, it is almost same as user-user collaborative filtering"
      ],
      "metadata": {
        "id": "rKi_pazKtLUF"
      }
    },
    {
      "cell_type": "code",
      "source": [
        ""
      ],
      "metadata": {
        "id": "8uRRVtc7QfY4"
      },
      "execution_count": null,
      "outputs": []
    }
  ]
}